{
 "cells": [
  {
   "cell_type": "markdown",
   "metadata": {},
   "source": [
    "# Understand embeddings with Word2Vec"
   ]
  },
  {
   "cell_type": "markdown",
   "metadata": {},
   "source": [
    "### Exercise objectives:\n",
    "- Convert 🔠 words to 🔢 vector representations thanks to embeddings\n",
    "- Discover the powerful Word2Vec algorithm\n",
    "\n",
    "<hr>\n",
    "\n",
    "_Embeddings_ are representations of words using vectors. These embeddings can be learned within a Neural Network. But it can take time to converge. Another option is to learn them as a first step. Then, use them directly to feed the word representations into a Recurrent Neural Network. "
   ]
  },
  {
   "cell_type": "markdown",
   "metadata": {},
   "source": [
    "▶️ Run this cell and make sure the version of 📚 [Gensim - Word2Vec](https://radimrehurek.com/gensim/auto_examples/index.html) you are using is ≥ 4.0!"
   ]
  },
  {
   "cell_type": "code",
   "execution_count": 1,
   "metadata": {},
   "outputs": [
    {
     "name": "stdout",
     "output_type": "stream",
     "text": [
      "gensim==4.2.0\n"
     ]
    }
   ],
   "source": [
    "!pip freeze | grep gensim\n"
   ]
  },
  {
   "cell_type": "code",
   "execution_count": 2,
   "metadata": {},
   "outputs": [
    {
     "name": "stdout",
     "output_type": "stream",
     "text": [
      "tensorflow-datasets==4.6.0\n",
      "tensorflow-estimator==2.10.0\n",
      "tensorflow-macos==2.10.0\n",
      "tensorflow-metadata==1.10.0\n"
     ]
    }
   ],
   "source": [
    "!pip freeze | grep tensorflow\n"
   ]
  },
  {
   "cell_type": "markdown",
   "metadata": {},
   "source": [
    "# The data"
   ]
  },
  {
   "cell_type": "markdown",
   "metadata": {},
   "source": [
    "Keras provides many datasets, among which is the IMDB dataset 🎬:\n",
    "- It is comprised of sentences that are ***movie reviews***. \n",
    "- Each of these reviews is related to a score given by the reviewer.\n",
    "\n",
    "❓ **Question** ❓ First of all, let's load the data. You don't have to understand what is going on in the function, it does not matter here.\n",
    "\n",
    "⚠️ **Warning** ⚠️ The `load_data` function has a `percentage_of_sentences` argument. Depending on your computer, there are chances that too many sentences will make your compute slow down, or even freeze - your RAM can overflow. For that reason, **you should start with 10% of the sentences** and see if your computer can handle it. Otherwise, rerun with a lower number.  \n",
    "\n",
    "⚠️ **DISCLAIMER** ⚠️ **No need to play _who has the biggest_ (RAM) !** The idea is to get to run your models quickly to prototype. Even in real life, it is recommended that you start with a subset of your data to loop and debug quickly. So increase the number only if you are into getting the best accuracy. "
   ]
  },
  {
   "cell_type": "code",
   "execution_count": 3,
   "metadata": {},
   "outputs": [
    {
     "name": "stderr",
     "output_type": "stream",
     "text": [
      "2023-11-23 11:08:46.918951: W tensorflow/core/platform/cloud/google_auth_provider.cc:184] All attempts to get a Google authentication bearer token failed, returning an empty token. Retrieving token from files failed with \"NOT_FOUND: Could not locate the credentials file.\". Retrieving token from GCE failed with \"FAILED_PRECONDITION: Error executing an HTTP request: libcurl code 6 meaning 'Couldn't resolve host name', error details: Could not resolve host: metadata\".\n"
     ]
    },
    {
     "name": "stdout",
     "output_type": "stream",
     "text": [
      "\u001b[1mDownloading and preparing dataset 80.23 MiB (download: 80.23 MiB, generated: Unknown size, total: 80.23 MiB) to ~/tensorflow_datasets/imdb_reviews/plain_text/1.0.0...\u001b[0m\n"
     ]
    },
    {
     "data": {
      "application/vnd.jupyter.widget-view+json": {
       "model_id": "6c5951e4c96b425cacd9264d8cd4195f",
       "version_major": 2,
       "version_minor": 0
      },
      "text/plain": [
       "Dl Completed...: 0 url [00:00, ? url/s]"
      ]
     },
     "metadata": {},
     "output_type": "display_data"
    },
    {
     "data": {
      "application/vnd.jupyter.widget-view+json": {
       "model_id": "acc83826964b441f9598d5302c822896",
       "version_major": 2,
       "version_minor": 0
      },
      "text/plain": [
       "Dl Size...: 0 MiB [00:00, ? MiB/s]"
      ]
     },
     "metadata": {},
     "output_type": "display_data"
    },
    {
     "data": {
      "application/vnd.jupyter.widget-view+json": {
       "model_id": "c91608a3eba547ff84640ebcdaf81d71",
       "version_major": 2,
       "version_minor": 0
      },
      "text/plain": [
       "Generating splits...:   0%|          | 0/3 [00:00<?, ? splits/s]"
      ]
     },
     "metadata": {},
     "output_type": "display_data"
    },
    {
     "data": {
      "application/vnd.jupyter.widget-view+json": {
       "model_id": "d7b6811209b0487481693eab89530de5",
       "version_major": 2,
       "version_minor": 0
      },
      "text/plain": [
       "Generating train examples...:   0%|          | 0/25000 [00:00<?, ? examples/s]"
      ]
     },
     "metadata": {},
     "output_type": "display_data"
    },
    {
     "data": {
      "application/vnd.jupyter.widget-view+json": {
       "model_id": "c1fb6bd903ca4fa6b93b0af1b7446fcd",
       "version_major": 2,
       "version_minor": 0
      },
      "text/plain": [
       "Shuffling ~/tensorflow_datasets/imdb_reviews/plain_text/1.0.0.incompleteQXIOJG/imdb_reviews-train.tfrecord*...…"
      ]
     },
     "metadata": {},
     "output_type": "display_data"
    },
    {
     "data": {
      "application/vnd.jupyter.widget-view+json": {
       "model_id": "f2b6ec4154374ae0b145d18e9f70c636",
       "version_major": 2,
       "version_minor": 0
      },
      "text/plain": [
       "Generating test examples...:   0%|          | 0/25000 [00:00<?, ? examples/s]"
      ]
     },
     "metadata": {},
     "output_type": "display_data"
    },
    {
     "data": {
      "application/vnd.jupyter.widget-view+json": {
       "model_id": "40126f046c1c4d99b01df9f65f837839",
       "version_major": 2,
       "version_minor": 0
      },
      "text/plain": [
       "Shuffling ~/tensorflow_datasets/imdb_reviews/plain_text/1.0.0.incompleteQXIOJG/imdb_reviews-test.tfrecord*...:…"
      ]
     },
     "metadata": {},
     "output_type": "display_data"
    },
    {
     "data": {
      "application/vnd.jupyter.widget-view+json": {
       "model_id": "8cb399edd4d64b83950209531a224457",
       "version_major": 2,
       "version_minor": 0
      },
      "text/plain": [
       "Generating unsupervised examples...:   0%|          | 0/50000 [00:00<?, ? examples/s]"
      ]
     },
     "metadata": {},
     "output_type": "display_data"
    },
    {
     "data": {
      "application/vnd.jupyter.widget-view+json": {
       "model_id": "19cb6c7e39304ce899ff53299ddd92fc",
       "version_major": 2,
       "version_minor": 0
      },
      "text/plain": [
       "Shuffling ~/tensorflow_datasets/imdb_reviews/plain_text/1.0.0.incompleteQXIOJG/imdb_reviews-unsupervised.tfrec…"
      ]
     },
     "metadata": {},
     "output_type": "display_data"
    },
    {
     "name": "stdout",
     "output_type": "stream",
     "text": [
      "\u001b[1mDataset imdb_reviews downloaded and prepared to ~/tensorflow_datasets/imdb_reviews/plain_text/1.0.0. Subsequent calls will reuse this data.\u001b[0m\n"
     ]
    },
    {
     "name": "stderr",
     "output_type": "stream",
     "text": [
      "2023-11-23 11:09:14.333619: W tensorflow/core/platform/profile_utils/cpu_utils.cc:128] Failed to get CPU frequency: 0 Hz\n"
     ]
    }
   ],
   "source": [
    "###########################################\n",
    "### Just run this cell to load the data ###\n",
    "###########################################\n",
    "\n",
    "import tensorflow_datasets as tfds\n",
    "from tensorflow.keras.preprocessing.text import text_to_word_sequence\n",
    "\n",
    "def load_data(percentage_of_sentences=None):\n",
    "    train_data, test_data = tfds.load(name=\"imdb_reviews\", split=[\"train\", \"test\"], batch_size=-1, as_supervised=True)\n",
    "\n",
    "    train_sentences, y_train = tfds.as_numpy(train_data)\n",
    "    test_sentences, y_test = tfds.as_numpy(test_data)\n",
    "\n",
    "    # Take only a given percentage of the entire data\n",
    "    if percentage_of_sentences is not None:\n",
    "        assert(percentage_of_sentences> 0 and percentage_of_sentences<=100)\n",
    "\n",
    "        len_train = int(percentage_of_sentences/100*len(train_sentences))\n",
    "        train_sentences, y_train = train_sentences[:len_train], y_train[:len_train]\n",
    "\n",
    "        len_test = int(percentage_of_sentences/100*len(test_sentences))\n",
    "        test_sentences, y_test = test_sentences[:len_test], y_test[:len_test]\n",
    "\n",
    "    X_train = [text_to_word_sequence(_.decode(\"utf-8\")) for _ in train_sentences]\n",
    "    X_test = [text_to_word_sequence(_.decode(\"utf-8\")) for _ in test_sentences]\n",
    "\n",
    "    return X_train, y_train, X_test, y_test\n",
    "\n",
    "X_train, y_train, X_test, y_test = load_data(percentage_of_sentences=10)\n"
   ]
  },
  {
   "cell_type": "markdown",
   "metadata": {},
   "source": [
    "<b><u>Embeddings in the previous challenge</u></b>:\n",
    "\n",
    "In the previous exercise, we jointly learned a representation for the words, and fed this representation to a RNN, as shown down below 👇: \n",
    "\n",
    "<img src=\"layers_embedding.png\" width=\"400px\" />\n",
    "\n",
    "However, this increases the number of parameters to learn, which slows down and increases the difficulty of convergence!"
   ]
  },
  {
   "cell_type": "markdown",
   "metadata": {},
   "source": [
    "<b><u>Embeddings in the current challenge</u></b>:\n",
    "\n",
    "For this reason, we will separate the steps of learning the word representation and feeding it into a RNN. As shown here: \n",
    "\n",
    "<img src=\"word2vec_representation.png\" width=\"400px\" />\n",
    "\n",
    "We will learn the embedding with Word2Vec.\n",
    "\n",
    "The drawback is indeed that the learned embeddings are not _specifically_ designed for our task. However, learning them independently of the task at hand (sentiment analysis) has some advantages: \n",
    "- it is very fast to do in general (with Word2Vec)\n",
    "- the representation learned by Word2Vec is still meaningful \n",
    "- the convergence of the RNN alone will be easier and faster\n",
    "\n",
    "So let's learn an embedding with Word2Vec and see how meaningful it is!"
   ]
  },
  {
   "cell_type": "markdown",
   "metadata": {},
   "source": [
    "# Embedding with Word2Vec"
   ]
  },
  {
   "cell_type": "markdown",
   "metadata": {},
   "source": [
    "Let's use Word2Vec to embed the words of our sentences. Word2Vec will be able to convert each word to a fixed-size vectorial representation.\n",
    "\n",
    "For instance, we will have:\n",
    "- 🐶 _dog_ $\\rightarrow$ [0.1, -0.3, 0.8]\n",
    "- 🐱 _cat_ $\\rightarrow$ [-1.1, 2.3, 0.7]\n",
    "- 🍏 _apple_ $\\rightarrow$ [3.1, 0.9, -4.7]\n",
    "\n",
    "Here, your embedding space is of size 3.\n",
    "\n",
    "***What is a \"good\" numerical representation of words?***\n",
    "\n",
    "- ***Words with close meanings should be geometrically close in your embedding space!***\n",
    "\n",
    "    - Look at the following example which represents a bi-dimensional embedding space.\n",
    "\n",
    "![Embedding](word_embedding.png)"
   ]
  },
  {
   "cell_type": "markdown",
   "metadata": {},
   "source": [
    "❓ **Question** ❓ Let's run Word2Vec! \n",
    "\n",
    "[📚 **Gensim**](https://radimrehurek.com/gensim/)  is a great Python package that makes the use of the Word2Vec algorithm easy to implement, fast and accurate (which is not an easy task!).\n",
    "\n",
    "1. The following code imports Word2Vec from Gensim. \n",
    "\n",
    "2. The second line learns the embedding representation of the words thanks to the sentences in `X_train`. \n",
    "3. The third line stores the words and their trained embeddings in `wv`."
   ]
  },
  {
   "cell_type": "code",
   "execution_count": 4,
   "metadata": {
    "tags": []
   },
   "outputs": [],
   "source": [
    "from gensim.models import Word2Vec\n",
    "\n",
    "word2vec = Word2Vec(sentences=X_train)\n",
    "wv = word2vec.wv\n"
   ]
  },
  {
   "cell_type": "markdown",
   "metadata": {},
   "source": [
    "Let's look at the embedded representation of some words.\n",
    "\n",
    "You can use `wv` as a dictionary.\n",
    "For instance, `wv['dog']` will return a representation of `dog` in the embedding space."
   ]
  },
  {
   "cell_type": "markdown",
   "metadata": {},
   "source": [
    "❓ **Question** ❓ Try different words - especially, try non-existing words to see that they don't have any representation (which is perfectly normal as their representation was not learned). "
   ]
  },
  {
   "cell_type": "code",
   "execution_count": 5,
   "metadata": {
    "tags": [
     "challengify"
    ]
   },
   "outputs": [
    {
     "name": "stdout",
     "output_type": "stream",
     "text": [
      "vector for 'dog' [-0.18757688  0.17214037 -0.1121115   0.24613217 -0.04401321 -0.41170317\n",
      " -0.00150945  0.5882969  -0.22738764 -0.18487713 -0.02495031 -0.3622422\n",
      " -0.0280234   0.1228921  -0.03867351 -0.2777799   0.16058654 -0.27053624\n",
      " -0.03413136 -0.3616724   0.17426044  0.10248363  0.27523404 -0.09459525\n",
      " -0.01315555  0.05532716 -0.17419718 -0.09252553 -0.16163021  0.04336675\n",
      "  0.15841213  0.02970891  0.17638345 -0.38579282 -0.18088551  0.2683883\n",
      "  0.09644099 -0.13483062 -0.26809436 -0.3182154  -0.1462763  -0.2750825\n",
      " -0.24734311  0.20715292  0.2644375  -0.07959655 -0.11204612 -0.02802587\n",
      "  0.2309427   0.17947456  0.0892203  -0.17634554 -0.23175058 -0.02709211\n",
      " -0.17651504  0.19944666  0.15131396 -0.03327561 -0.21923903  0.03988692\n",
      "  0.12709989 -0.02808721  0.06007756  0.12126347 -0.2468872   0.28403118\n",
      " -0.02596058  0.27217385 -0.32738796  0.26754022 -0.22631681  0.23677689\n",
      "  0.3525362  -0.23525774  0.3329574   0.16940795 -0.00949523  0.10710374\n",
      " -0.18269584 -0.06445752 -0.2956764  -0.19645622 -0.2620662   0.33773085\n",
      " -0.10174487 -0.21171609 -0.00546674  0.28570932  0.29177392  0.07235961\n",
      "  0.25126404  0.24984659  0.07343219  0.11806362  0.46020862  0.18691067\n",
      "  0.21660234 -0.06474096  0.01678415 -0.07069033]\n",
      "most similar words to 'cat' [('plane', 0.9871511459350586), ('supposedly', 0.9870086312294006), ('dreams', 0.9861560463905334), ('crying', 0.986102283000946), ('baby', 0.9850921630859375)]\n",
      "'apple' in vocab False\n",
      "'xyz' in vocab False\n"
     ]
    }
   ],
   "source": [
    "vector_dog = wv['dog']\n",
    "print(\"vector for 'dog'\", vector_dog)\n",
    "\n",
    "similar_words_cat = wv.most_similar('cat', topn=5)\n",
    "print(\"most similar words to 'cat'\", similar_words_cat)\n",
    "\n",
    "is_apple_present = 'apple' in wv\n",
    "print(\"'apple' in vocab\", is_apple_present)\n",
    "\n",
    "is_non_existing_word_present = 'xyz' in wv\n",
    "print(\"'xyz' in vocab\", is_non_existing_word_present)\n"
   ]
  },
  {
   "cell_type": "markdown",
   "metadata": {},
   "source": [
    "❓ **Question** ❓ What is the size of each word representation, and therefore, what is the size of the embedding space?"
   ]
  },
  {
   "cell_type": "code",
   "execution_count": 6,
   "metadata": {
    "tags": [
     "challengify"
    ]
   },
   "outputs": [],
   "source": [
    "word2vec = Word2Vec(sentences=X_train)\n"
   ]
  },
  {
   "cell_type": "markdown",
   "metadata": {},
   "source": [
    "🧐 How do we know whether this embedding make any sense or not? \n",
    "\n",
    "💡 To investigate this question, we will check that words with a close meaning have close representations. \n",
    "\n",
    "👉 Let's use the [**`Word2Vec.wv.most_similar`**](https://radimrehurek.com/gensim/models/keyedvectors.html#gensim.models.keyedvectors.KeyedVectors.most_similar) method that, given an input word, displays the \"closest\" words in the embedding space. If the embedding is well done, then words with similar meanings will have similar representation in the embedding space."
   ]
  },
  {
   "cell_type": "markdown",
   "metadata": {},
   "source": [
    "❓ **Question** ❓ Try out the `most_similar` method on different words. \n",
    "\n",
    "🧑🏿‍🏫 The quality of the closeness will depend on the quality of your embedding, and thus, depend on the number of sentences that you have loaded and from which you create your embedding."
   ]
  },
  {
   "cell_type": "code",
   "execution_count": 8,
   "metadata": {
    "tags": [
     "challengify"
    ]
   },
   "outputs": [
    {
     "name": "stdout",
     "output_type": "stream",
     "text": [
      "most similar words to 'happy' [('shock', 0.95807945728302), ('mistake', 0.957321286201477), ('afraid', 0.9565247297286987), ('difficult', 0.9551759362220764), ('forgotten', 0.954578697681427)]\n",
      "most similar words to 'movie' [('film', 0.9681926965713501), ('show', 0.8605576157569885), ('thing', 0.8370571732521057), ('sequel', 0.8231511116027832), ('series', 0.7961447238922119)]\n",
      "most similar words to 'good' [('great', 0.9226853847503662), ('funny', 0.8962520956993103), ('bad', 0.8866976499557495), ('quite', 0.8800169229507446), ('very', 0.8096610903739929)]\n"
     ]
    }
   ],
   "source": [
    "similar_words_happy = wv.most_similar('happy', topn=5)\n",
    "print(\"most similar words to 'happy'\", similar_words_happy)\n",
    "\n",
    "similar_words_movie = wv.most_similar('movie', topn=5)\n",
    "print(\"most similar words to 'movie'\", similar_words_movie)\n",
    "\n",
    "similar_words_good = wv.most_similar('good', topn=5)\n",
    "print(\"most similar words to 'good'\", similar_words_good)\n"
   ]
  },
  {
   "cell_type": "markdown",
   "metadata": {},
   "source": [
    "📚 Similarly to `most_similar` used on words directly, we can use [**`similar_by_vector`**](https://radimrehurek.com/gensim/models/keyedvectors.html#gensim.models.keyedvectors.KeyedVectors.similar_by_vector) on vectors to do the same thing:"
   ]
  },
  {
   "cell_type": "code",
   "execution_count": 9,
   "metadata": {
    "tags": [
     "challengify"
    ]
   },
   "outputs": [
    {
     "name": "stdout",
     "output_type": "stream",
     "text": [
      "most similar words to 'happy' by vector [('happy', 1.0), ('shock', 0.9580795168876648), ('mistake', 0.957321286201477), ('afraid', 0.9565247297286987), ('difficult', 0.9551759362220764)]\n"
     ]
    }
   ],
   "source": [
    "vector_happy = wv['happy']\n",
    "similar_words_by_vector_happy = wv.similar_by_vector(vector_happy, topn=5)\n",
    "print(\"most similar words to 'happy' by vector\", similar_words_by_vector_happy)\n"
   ]
  },
  {
   "cell_type": "markdown",
   "metadata": {},
   "source": [
    "# Arithmetic on words"
   ]
  },
  {
   "cell_type": "markdown",
   "metadata": {},
   "source": [
    "Now, let's perform some mathematical operations on words, i.e. on their vector representations!\n",
    "\n",
    "As any learned word is represented as a vector, you can do basic arithmetic operations, such as:\n",
    "\n",
    "$$W2V(good) - W2V(bad)$$"
   ]
  },
  {
   "cell_type": "markdown",
   "metadata": {},
   "source": [
    "❓ **Question** ❓ Do this mathematical operation and print the result"
   ]
  },
  {
   "cell_type": "code",
   "execution_count": 10,
   "metadata": {
    "tags": [
     "challengify"
    ]
   },
   "outputs": [
    {
     "name": "stdout",
     "output_type": "stream",
     "text": [
      "result of adding 'dog' and 'cat' vectors [-0.3780874   0.40233445 -0.3598295   0.64811176 -0.08829349 -0.7011212\n",
      "  0.1265588   1.2927476  -0.469553   -0.39863822 -0.01886719 -0.788615\n",
      "  0.0875569   0.29772076 -0.07933551 -0.61144435  0.38818616 -0.51949567\n",
      " -0.07261017 -0.8496297   0.3688168   0.19793966  0.5520805  -0.32220888\n",
      " -0.04255875  0.09987916 -0.4604445  -0.18527298 -0.43691516  0.03159631\n",
      "  0.33770233  0.01401589  0.34468293 -0.95224524 -0.46717703  0.5089961\n",
      "  0.2863616  -0.31260616 -0.64327186 -0.6527047  -0.36637282 -0.6374229\n",
      " -0.6859208   0.4530704   0.62930727 -0.11458215 -0.22434145 -0.10539632\n",
      "  0.59582114  0.36883974  0.18878356 -0.40387225 -0.42680663 -0.10467807\n",
      " -0.41618714  0.35286096  0.342733   -0.08266667 -0.36324543  0.13622943\n",
      "  0.33904266 -0.04693536  0.05102577  0.24800105 -0.37617844  0.52967864\n",
      " -0.08483322  0.6424049  -0.7989346   0.6472899  -0.5705408   0.4490307\n",
      "  0.7648039  -0.5895406   0.69020975  0.288477   -0.00875972  0.34962994\n",
      " -0.37449676 -0.16355881 -0.6914104  -0.527586   -0.5491576   0.56154597\n",
      " -0.28566998 -0.50464195 -0.13824585  0.6051966   0.74496484  0.14011568\n",
      "  0.36291432  0.65829974  0.17108959  0.30010232  1.0132253   0.27933604\n",
      "  0.48143774 -0.03557247  0.16714853  0.04552606]\n",
      "result of subtracting 'cat' from 'dog' vectors [ 0.00293364 -0.0580537   0.1356065  -0.15584743  0.00026707 -0.12228516\n",
      " -0.12957768 -0.11615384  0.01477773  0.02888396 -0.03103343  0.0641306\n",
      " -0.14360368 -0.05193656  0.0019885   0.05588454 -0.06701308 -0.02157684\n",
      "  0.00434745  0.1262849  -0.02029593  0.0070276  -0.0016124   0.13301837\n",
      "  0.01624765  0.01077516  0.11205013  0.00022192  0.11365473  0.05513718\n",
      " -0.02087806  0.04540193  0.00808398  0.18065956  0.10540603  0.02778049\n",
      " -0.09347963  0.04294491  0.10708314  0.01627395  0.07382023  0.08725795\n",
      "  0.19123454 -0.03876455 -0.10043225 -0.04461095  0.00024923  0.04934457\n",
      " -0.13393578 -0.0098906  -0.01034295  0.05118118 -0.03669453  0.05049384\n",
      "  0.06315705  0.04603237 -0.04010507  0.01611545 -0.07523261 -0.05645557\n",
      " -0.08484291 -0.00923905  0.06912933 -0.00547411 -0.11759597  0.03838374\n",
      "  0.03291207 -0.09805724  0.14415863 -0.11220941  0.1179072   0.02452309\n",
      " -0.05973145  0.11902511 -0.02429494  0.05033891 -0.01023075 -0.13542247\n",
      "  0.00910507  0.03464376  0.10005763  0.1346735   0.02502525  0.11391576\n",
      "  0.08218025  0.08120978  0.12731239 -0.03377798 -0.161417    0.00460354\n",
      "  0.13961375 -0.15860657 -0.02422521 -0.06397509 -0.09280804  0.09448532\n",
      " -0.04823308 -0.09390944 -0.13358021 -0.18690673]\n"
     ]
    }
   ],
   "source": [
    "vector_dog = wv['dog']\n",
    "vector_cat = wv['cat']\n",
    "\n",
    "vector_sum = vector_dog + vector_cat\n",
    "print(\"result of adding 'dog' and 'cat' vectors\", vector_sum)\n",
    "\n",
    "vector_diff = vector_dog - vector_cat\n",
    "print(\"result of subtracting 'cat' from 'dog' vectors\", vector_diff)\n"
   ]
  },
  {
   "cell_type": "markdown",
   "metadata": {},
   "source": [
    "Now, imagine for a second that the following equality holds true:\n",
    "\n",
    "$$W2V(good) - W2V(bad) = W2V(nice) - W2V(stupid)$$\n",
    "\n",
    "which is equivalent to:\n",
    "\n",
    "$$W2V(good) - W2V(bad) + W2V(stupid) = W2V(nice)$$"
   ]
  },
  {
   "cell_type": "markdown",
   "metadata": {},
   "source": [
    "❓ **Question** ❓ Let's, just for fun (as it would be bold of us to think that this equality holds true ...), do the operation $W2V(good) - W2V(bad) + W2V(stupid)$ and store it in a `res` variable (which will be a vector of size 100 that you can print)."
   ]
  },
  {
   "cell_type": "code",
   "execution_count": 11,
   "metadata": {
    "tags": [
     "challengify"
    ]
   },
   "outputs": [
    {
     "name": "stdout",
     "output_type": "stream",
     "text": [
      "result of the operation  [ 0.04952022 -0.40262568  0.26652074  0.02471781  0.18143782 -0.9644551\n",
      " -0.34560388  0.72128    -0.6370332  -0.5973649  -0.13724904 -0.5526273\n",
      "  0.22072993  0.47704712  0.13755813 -0.0115336   0.22345015 -0.43545112\n",
      " -0.5658456  -1.2687619   0.5776885   0.2119718   0.70374256 -0.188441\n",
      " -0.06637791 -0.3049129  -0.36038163  0.57843095 -0.5208605  -0.6597662\n",
      "  0.41569728  0.4659888   0.17092709 -0.05024342 -0.2970833  -0.03740638\n",
      "  0.14699848  0.07255055 -0.47037354  0.19670886 -0.20653987 -0.69768196\n",
      " -0.26396775  0.15514898  0.50949913  0.04860783  0.10113779 -0.4816431\n",
      " -0.40133846  0.4393894  -0.14696726 -0.11667076 -0.57761073  0.17371173\n",
      "  0.32254323  0.14384514 -0.18140045  0.33101138 -0.23917913  0.52751195\n",
      "  0.11038022  0.08554247  0.0225382  -0.2000148  -0.28912252  0.40271848\n",
      " -0.47041333 -0.19116127  0.14172551  0.69181263 -0.59934413  0.0289579\n",
      "  0.28979242  0.31640422  0.43028486 -0.08830927  0.11124785 -0.21164057\n",
      " -0.10057187  0.08025627  0.1118013  -0.0903033  -0.87320197  0.52248216\n",
      " -0.65316343  0.18094316  0.16772905  0.10448387  0.40170604 -0.25627178\n",
      "  0.12613857  0.52913946  0.3049835   0.5078806   0.4554764   0.03515512\n",
      "  0.5055219  -0.17913097 -0.40704647 -0.34888   ]\n"
     ]
    }
   ],
   "source": [
    "vector_good = wv['good']\n",
    "vector_bad = wv['bad']\n",
    "vector_stupid = wv['stupid']\n",
    "\n",
    "res = vector_good - vector_bad + vector_stupid\n",
    "\n",
    "print(\"result of the operation \", res)\n"
   ]
  },
  {
   "cell_type": "markdown",
   "metadata": {},
   "source": [
    "We said earlier, that for any vector it is possible to see the closest vectors in the embedding space."
   ]
  },
  {
   "cell_type": "markdown",
   "metadata": {},
   "source": [
    "❓ **Question** ❓ Look at the closest vectors of `res`\n",
    "\n",
    "💡 _Hint_: `similar_by_vector`"
   ]
  },
  {
   "cell_type": "code",
   "execution_count": 12,
   "metadata": {
    "tags": [
     "challengify"
    ]
   },
   "outputs": [
    {
     "name": "stdout",
     "output_type": "stream",
     "text": [
      "most similar words to 'res' vector [('nice', 0.7579593658447266), ('potential', 0.7270023822784424), ('good', 0.7231265902519226), ('handful', 0.7207500338554382), ('decent', 0.7121587991714478)]\n"
     ]
    }
   ],
   "source": [
    "similar_words_res = wv.similar_by_vector(res, topn=5)\n",
    "print(\"most similar words to 'res' vector\", similar_words_res)\n"
   ]
  },
  {
   "cell_type": "markdown",
   "metadata": {},
   "source": [
    "Incredible right! You can do arithmetic operations on words!\n",
    "\n",
    "❓ **Question** ❓ You can try on arithmetic such as \n",
    "\n",
    "$$W2V(Boy) - W2V(Girl) = W2V(Man) - W2V(Woman)$$\n",
    "\n",
    "or \n",
    "\n",
    "$$W2V(Queen) - W2V(King) = W2V(actress) - W2V(actor)$$\n",
    "\n",
    "❗ **Remark** ❗ You will probably see that the results are not perfect. But don't forget that you trained your model on a very small corpus."
   ]
  },
  {
   "cell_type": "code",
   "execution_count": 13,
   "metadata": {
    "tags": [
     "challengify"
    ]
   },
   "outputs": [
    {
     "name": "stdout",
     "output_type": "stream",
     "text": [
      "most similar words to 'result_gender' vector [('10', 0.585750162601471), ('1', 0.532700777053833), ('3', 0.48187926411628723), ('2', 0.4649432599544525), ('8', 0.4625183641910553)]\n"
     ]
    }
   ],
   "source": [
    "vector_boy = wv['boy']\n",
    "vector_girl = wv['girl']\n",
    "vector_man = wv['man']\n",
    "vector_woman = wv['woman']\n",
    "\n",
    "result_gender = vector_boy - vector_girl - (vector_man - vector_woman)\n",
    "\n",
    "similar_words_gender = wv.similar_by_vector(result_gender, topn=5)\n",
    "print(\"most similar words to 'result_gender' vector\", similar_words_gender)\n"
   ]
  },
  {
   "cell_type": "markdown",
   "metadata": {},
   "source": [
    "<u><i>Some notes about Word2Vec as an internal Neural Network</i></u>:\n",
    "\n",
    "You might wonder where does this magic comes from (at quite a low price, you just ran a line of code on a very small corpus and it was trained within few minutes). The magic comes from the way Word2Vec is trained. The details are quite complex, but you can remember that Word2vec, in `word2vec = Word2Vec(sentences=X_train)`, actually trains a internal neural network (that you don't see).  \n",
    "\n",
    "In a nutshell, this internal neural network predicts a word from the surroundings words in a sentences. Hence, it splits the original sentences, then for each split it chooses some words as inputs $X$ and a word as the output $y$ which it tries to predict, using the embedding space.\n",
    "\n",
    "And as with any neural network, Word2Vec has some hyperparameters. Let's play with some of these. "
   ]
  },
  {
   "cell_type": "markdown",
   "metadata": {},
   "source": [
    "# Word2Vec hyperparameters"
   ]
  },
  {
   "cell_type": "markdown",
   "metadata": {},
   "source": [
    "❓ **Question** ❓ The first important hyperparameter is the `vector_size` argument. It corresponds to the size of the embedding space. Learn a new `word2vec_2` model, still trained on the `X_train`, but with a smaller or higher `vector_size`.\n",
    "\n",
    "Verify on some words that the embedding size is the one you chose."
   ]
  },
  {
   "cell_type": "code",
   "execution_count": 14,
   "metadata": {
    "tags": [
     "challengify"
    ]
   },
   "outputs": [
    {
     "name": "stdout",
     "output_type": "stream",
     "text": [
      "vector size for 'cat' in word2vec_2 (50,)\n",
      "vector size for 'dog' in word2vec_2 (50,)\n"
     ]
    }
   ],
   "source": [
    "word2vec_2 = Word2Vec(sentences=X_train, vector_size=50)\n",
    "wv_2 = word2vec_2.wv\n",
    "\n",
    "vector_cat_2 = wv_2['cat']\n",
    "vector_dog_2 = wv_2['dog']\n",
    "\n",
    "print(\"vector size for 'cat' in word2vec_2\", vector_cat_2.shape)\n",
    "print(\"vector size for 'dog' in word2vec_2\", vector_dog_2.shape)\n"
   ]
  },
  {
   "cell_type": "markdown",
   "metadata": {},
   "source": [
    "❓ **Question** ❓ Use the **`Word2Vec.wv.key_to_index`** attribute to display the size of the learned vocabulary. Compare it to the number of different words in `X_train`."
   ]
  },
  {
   "cell_type": "code",
   "execution_count": 15,
   "metadata": {
    "tags": [
     "challengify"
    ]
   },
   "outputs": [
    {
     "name": "stdout",
     "output_type": "stream",
     "text": [
      "size of the learned vocabulary in word2vec_2 8006\n",
      "num of different words in X_train 30419\n"
     ]
    }
   ],
   "source": [
    "vocab_size_word2vec_2 = len(wv_2.key_to_index)\n",
    "print(\"size of the learned vocabulary in word2vec_2\", vocab_size_word2vec_2)\n",
    "\n",
    "unique_words_in_X_train = len(set(word for sentence in X_train for word in sentence))\n",
    "print(\"num of different words in X_train\", unique_words_in_X_train)\n"
   ]
  },
  {
   "cell_type": "markdown",
   "metadata": {},
   "source": [
    "There is an important difference between the number of words in the train sentences and in the Word2Vec vocabulary, even though it has been trained on the train sentence set. The reasons comes from the second important hyperparameter of Word2Vec:  `min_count`. \n",
    "\n",
    "`min_count` is a integer that tells you how many occurrences a given word should have to be learned in the embedding space. For instance, let's say that the word \"movie\" appears 1000 times in the corpus and \"simba\" only 2 times. If `min_count=3`, the word \"simba\" will be skipped during the training.\n",
    "\n",
    "The intention is to learn a representation of words that are sufficiently present in the corpus to have a robust embedded representation."
   ]
  },
  {
   "cell_type": "markdown",
   "metadata": {},
   "source": [
    "❓ **Question** ❓ Learn a new `word2vec_3` model with a `min_count` higher than 5 (which is the default value) and a `word2vec_4` with a `min_count` smaller than 5, and then, compare the size of the vocabulary for all the different word2vecs that you have trained (you can choose any `vector_size` you want)."
   ]
  },
  {
   "cell_type": "code",
   "execution_count": 16,
   "metadata": {
    "tags": [
     "challengify"
    ]
   },
   "outputs": [
    {
     "name": "stdout",
     "output_type": "stream",
     "text": [
      "size of the vocabulary in word2vec_2 8006\n",
      "size of the vocabulary in word2vec_3 4503\n",
      "size of the vocabulary in word2vec_4 16729\n"
     ]
    }
   ],
   "source": [
    "word2vec_3 = Word2Vec(sentences=X_train, vector_size=50, min_count=10)\n",
    "wv_3 = word2vec_3.wv\n",
    "\n",
    "word2vec_4 = Word2Vec(sentences=X_train, vector_size=50, min_count=2)\n",
    "wv_4 = word2vec_4.wv\n",
    "\n",
    "vocab_size_word2vec_2 = len(wv_2.key_to_index)\n",
    "vocab_size_word2vec_3 = len(wv_3.key_to_index)\n",
    "vocab_size_word2vec_4 = len(wv_4.key_to_index)\n",
    "\n",
    "print(\"size of the vocabulary in word2vec_2\", vocab_size_word2vec_2)\n",
    "print(\"size of the vocabulary in word2vec_3\", vocab_size_word2vec_3)\n",
    "print(\"size of the vocabulary in word2vec_4\", vocab_size_word2vec_4)\n"
   ]
  },
  {
   "cell_type": "markdown",
   "metadata": {},
   "source": [
    "Remember that Word2Vec has an internal neural network that is optimized based on some predictions. These predictions actually correspond to predicting a word based on surrounding words. The surroundings words are in a `window` which corresponds to the number of words taken into account. And you can train the Word2Vec with different `window` sizes."
   ]
  },
  {
   "cell_type": "markdown",
   "metadata": {},
   "source": [
    "❓ **Question** ❓ Train a new `word2vec_5` model with a `window` different than previously (default is 5)."
   ]
  },
  {
   "cell_type": "code",
   "execution_count": 17,
   "metadata": {
    "tags": [
     "challengify"
    ]
   },
   "outputs": [],
   "source": [
    "word2vec_5 = Word2Vec(sentences=X_train, vector_size=50, window=10)\n",
    "wv_5 = word2vec_5.wv\n"
   ]
  },
  {
   "cell_type": "markdown",
   "metadata": {},
   "source": [
    "The arguments you have seen (`vector_size`, `min_count` and `window`) are usually the ones that you should start playing with to get a better performance for your model.\n",
    "\n",
    "But you can also look at other arguments in the [**📚 Documentation - gensim.models.word2vec.Text8Corpus**](https://radimrehurek.com/gensim/models/word2vec.html#gensim.models.word2vec.Text8Corpus)"
   ]
  },
  {
   "cell_type": "markdown",
   "metadata": {},
   "source": [
    "# Convert our train and test set to RNN-ready datasets"
   ]
  },
  {
   "cell_type": "markdown",
   "metadata": {},
   "source": [
    "Remember that `Word2Vec` is the first step to the overall process of feeding such a representation into a RNN, as shown here:\n",
    "\n",
    "<img src=\"word2vec_representation.png\" width=\"400px\" />\n",
    "\n",
    "\n",
    "\n",
    "Now, let's work on Step 2 by converting the training and test data into their vector representation to be ready to be fed in RNNs.\n",
    "\n",
    "❓ **Question** ❓ Now, write a function that, given a sentence, returns a matrix that corresponds to the embedding of the full sentence, which means that you have to embed each word one after the other and concatenate the result to output a 2D matrix (make sure that your output is a NumPy array)\n",
    "\n",
    "❗ **Remark** ❗ You will probably notice that some words you are trying to convert throw errors as they are said not to belong to the dictionary:\n",
    "\n",
    "- For the <font color=orange>test</font> set, this is understandable: <font color=orange>some words were not</font> in the <font color=blue>train</font> set and thus, their <font color=orange>embedded representation is unknown</font>\n",
    "- for the <font color=blue>train set</font>, due to `min_count` hyperparameter, not all the words have a vector representation.\n",
    "\n",
    "In any case, just skip the missing words here."
   ]
  },
  {
   "cell_type": "code",
   "execution_count": 19,
   "metadata": {},
   "outputs": [],
   "source": [
    "import numpy as np\n",
    "\n",
    "def embed_sentence(word2vec, sentence):\n",
    "    word_vectors = []\n",
    "\n",
    "    for word in sentence:\n",
    "        if word in word2vec:\n",
    "            word_vectors.append(word2vec[word])\n",
    "\n",
    "    if len(word_vectors) == 0:\n",
    "        return np.zeros((0, word2vec.vector_size))\n",
    "\n",
    "    mean_vector = np.mean(word_vectors, axis=0)\n",
    "\n",
    "    return mean_vector\n"
   ]
  },
  {
   "cell_type": "markdown",
   "metadata": {},
   "source": [
    "❓ **Question** ❓ Write a function that, given a list of sentences (each sentence being a list of words/strings), returns a list of embedded sentences (each sentence is a matrix). Apply this function to the train and test sentences\n",
    "\n",
    "💡 _Hint_: Use the previous function `embed_sentence`"
   ]
  },
  {
   "cell_type": "code",
   "execution_count": 20,
   "metadata": {},
   "outputs": [],
   "source": [
    "import numpy as np\n",
    "\n",
    "def embedding(word2vec, sentences):\n",
    "    embedded_sentences = []\n",
    "\n",
    "    for sentence in sentences:\n",
    "        embedded_sentence = embed_sentence(word2vec, sentence)\n",
    "\n",
    "        embedded_sentences.append(embedded_sentence)\n",
    "\n",
    "    return embedded_sentences\n"
   ]
  },
  {
   "cell_type": "markdown",
   "metadata": {},
   "source": [
    "❓ **Question** ❓ In order to have ready-to-use data, do not forget to pad your sequences so you have tensors which can be divided into batches (of `batch_size`) during the optimization. Store the padded values in `X_train_pad` and `X_test_pad`. Do not forget the important arguments of the padding ;)"
   ]
  },
  {
   "cell_type": "code",
   "execution_count": 21,
   "metadata": {},
   "outputs": [],
   "source": [
    "def embedding(word2vec, sentences):\n",
    "    embedded_sentences = []\n",
    "    for sentence in sentences:\n",
    "        embedded_sentence = embed_sentence(word2vec, sentence)\n",
    "        embedded_sentences.append(embedded_sentence)\n",
    "    return embedded_sentences\n"
   ]
  },
  {
   "cell_type": "markdown",
   "metadata": {},
   "source": [
    "\n",
    "\n",
    "🏁 Congratulations, you are now able to use `Word2Vec` to embed your words :)\n",
    "\n",
    "💾 Don't forget to git add/commit/push your notebook...\n",
    "\n",
    "🚀 ... and move on to the next challenge!\n"
   ]
  }
 ],
 "metadata": {
  "kernelspec": {
   "display_name": "Python 3",
   "language": "python",
   "name": "python3"
  },
  "language_info": {
   "codemirror_mode": {
    "name": "ipython",
    "version": 3
   },
   "file_extension": ".py",
   "mimetype": "text/x-python",
   "name": "python",
   "nbconvert_exporter": "python",
   "pygments_lexer": "ipython3",
   "version": "3.10.6"
  }
 },
 "nbformat": 4,
 "nbformat_minor": 4
}
